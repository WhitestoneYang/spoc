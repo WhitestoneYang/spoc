{
 "cells": [
  {
   "cell_type": "code",
   "execution_count": null,
   "metadata": {},
   "outputs": [
    {
     "name": "stdout",
     "output_type": "stream",
     "text": [
      "\n",
      "Prepare to generate directory tree: tox21\n",
      "--------------------\n",
      "Done!\n",
      "Done!\n",
      "Done!\n",
      "--------------------\n"
     ]
    }
   ],
   "source": [
    "# coding: utf-8\n",
    "\n",
    "\n",
    "import os\n",
    "\n",
    "\n",
    "def make_dir(directory):\n",
    "    if not os.path.exists(directory):\n",
    "        os.makedirs(directory)\n",
    "        print(\"Done!\")\n",
    "    else:\n",
    "        print(f\"{directory} exists!\")\n",
    "\n",
    "\n",
    "def generate_directory_tree(task_name):\n",
    "\n",
    "    root_dir = os.path.join(\n",
    "        '/home/yangqi/dl/cheminfo/spoc_20210904/spoc', 'benchmark', task_name)\n",
    "    dir_list = ['features', 'log', 'output']\n",
    "\n",
    "    for dir in dir_list:\n",
    "        dir = os.path.join(root_dir, dir)\n",
    "        make_dir(dir)\n",
    "\n",
    "\n",
    "if __name__ == '__main__':\n",
    "\n",
    "    task_list = ['tox21',]\n",
    "    for task in task_list:\n",
    "        print()\n",
    "        print(f\"Prepare to generate directory tree: {task}\")\n",
    "        print(f\"{'-'*20}\")\n",
    "        generate_directory_tree(task)\n",
    "        print(f\"{'-'*20}\")\n"
   ]
  },
  {
   "cell_type": "code",
   "execution_count": null,
   "metadata": {},
   "outputs": [
    {
     "name": "stdout",
     "output_type": "stream",
     "text": [
      "X.shape: (642, 1613)\n",
      "y.shape: (642,)\n",
      "y.shape: (642, 1)\n"
     ]
    }
   ],
   "source": [
    "import pandas as pd\n",
    "import numpy as np\n",
    "import os\n",
    "import deepchem as dc\n",
    "\n",
    "## test splitter\n",
    "\n",
    "split_mode = \"SingletaskStratifiedSplitter\"\n",
    "\n",
    "data_file = \"/home/yangqi/dl/cheminfo/spoc_20210904/spoc/data/SAMPL.csv\"\n",
    "descriptor_set_file = \"/home/yangqi/dl/cheminfo/spoc_20210904/spoc/benchmark/SAMPL/features/single_features/all_descriptor_set--SAMPL.pkl.zip\"\n",
    "\n",
    "data_df = pd.read_csv(data_file, encoding='GBK')\n",
    "desc_set_df = pd.read_pickle(descriptor_set_file)\n",
    "\n",
    "X = np.array([list(desc_set_df[\"Mordred\"][smi]) for smi in data_df[\"smiles\"].values])\n",
    "X = np.nan_to_num(X)\n",
    "y = data_df[\"expt\"].values\n",
    "print(f\"X.shape: {X.shape}\")\n",
    "print(f\"y.shape: {y.shape}\")\n",
    "\n",
    "# data split\n",
    "X_data = data_df[\"smiles\"].values\n",
    "\n",
    "# RandomSplitter\n",
    "if split_mode == \"RandomSplitter\":\n",
    "    splitter = dc.splits.RandomSplitter()\n",
    "    dataset = dc.data.DiskDataset.from_numpy(X=X, y=y)\n",
    "\n",
    "# ScaffoldSplitter\n",
    "elif split_mode == \"ScaffoldSplitter\":\n",
    "    splitter = dc.splits.ScaffoldSplitter()\n",
    "    dataset = dc.data.NumpyDataset(X=X, y=y, ids=X_data)\n",
    "    \n",
    "# SingletaskStratifiedSplitter\n",
    "elif split_mode == \"SingletaskStratifiedSplitter\":\n",
    "    splitter = dc.splits.SingletaskStratifiedSplitter(task_number=0)\n",
    "    y = np.expand_dims(y,axis=1)\n",
    "    print(f\"y.shape: {y.shape}\")\n",
    "    dataset = dc.data.DiskDataset.from_numpy(X=X, y=y)\n",
    "\n",
    "train_dataset, test_dataset = splitter.train_test_split(dataset, frac_train=0.9, seed=1)\n",
    "\n",
    "X_train = train_dataset.X\n",
    "y_train = train_dataset.y\n",
    "X_test = test_dataset.X\n",
    "y_test = test_dataset.y\n"
   ]
  },
  {
   "cell_type": "code",
   "execution_count": null,
   "metadata": {},
   "outputs": [
    {
     "name": "stdout",
     "output_type": "stream",
     "text": [
      "(576, 1613)\n",
      "(576, 1)\n",
      "(64, 1613)\n",
      "(64, 1)\n"
     ]
    }
   ],
   "source": [
    "print(X_train.shape)\n",
    "print(y_train.shape)\n",
    "print(X_test.shape)\n",
    "print(y_test.shape)"
   ]
  },
  {
   "cell_type": "code",
   "execution_count": null,
   "metadata": {},
   "outputs": [
    {
     "name": "stdout",
     "output_type": "stream",
     "text": [
      "<DiskDataset X.shape: (64, 1613), y.shape: (64, 1), w.shape: (64, 1), ids: [171 609 476 ... 395 424 19], task_names: [0]>\n"
     ]
    }
   ],
   "source": [
    "print(test_dataset)"
   ]
  },
  {
   "cell_type": "code",
   "execution_count": null,
   "metadata": {},
   "outputs": [
    {
     "name": "stdout",
     "output_type": "stream",
     "text": [
      "[2, 3, 13, 19, 57, 59, 68, 69, 74, 89, 90, 101, 111, 136, 150, 158, 167, 170, 171, 175, 198, 202, 203, 205, 213, 228, 242, 258, 269, 275, 291, 302, 312, 329, 346, 352, 360, 370, 388, 395, 400, 404, 419, 421, 424, 431, 448, 475, 476, 478, 501, 518, 544, 555, 561, 575, 587, 600, 604, 609, 614, 617, 628, 631]\n"
     ]
    }
   ],
   "source": [
    "print(sorted(test_dataset.ids))"
   ]
  },
  {
   "cell_type": "code",
   "execution_count": null,
   "metadata": {},
   "outputs": [
    {
     "data": {
      "text/plain": [
       "array([2.1, 9.1, 6.1, 4.1, 0.1, 3.1, 1.1, 7.1])"
      ]
     },
     "execution_count": 42,
     "metadata": {},
     "output_type": "execute_result"
    }
   ],
   "source": [
    "# randomsplitter\n",
    "\n",
    "import deepchem as dc\n",
    "\n",
    "X = np.array([\n",
    "    ['1','2','3,','4',],\n",
    "    ['1','2','3,','4',],\n",
    "    ['1','2','3,','4',],\n",
    "    ['1','2','3,','4',],\n",
    "    ['1','2','3,','4',],\n",
    "    ['1','2','3,','4',],\n",
    "    ['1','2','3,','4',],\n",
    "    ['2','2','3,','4',],\n",
    "    ['3','2','3,','4',],\n",
    "    ['4','2','3,','4',],\n",
    "])\n",
    "y = [a+0.1 for a in list(range(10))]\n",
    "\n",
    "dataset = dc.data.NumpyDataset(X,y)\n",
    "\n",
    "splitter = dc.splits.RandomSplitter()\n",
    "train, test = splitter.train_test_split(\n",
    "    dataset, frac_train=0.8, seed=1)\n",
    "\n",
    "train.y"
   ]
  },
  {
   "cell_type": "code",
   "execution_count": null,
   "metadata": {},
   "outputs": [
    {
     "ename": "IndexError",
     "evalue": "arrays used as indices must be of integer (or boolean) type",
     "output_type": "error",
     "traceback": [
      "\u001b[0;31m---------------------------------------------------------------------------\u001b[0m",
      "\u001b[0;31mIndexError\u001b[0m                                Traceback (most recent call last)",
      "\u001b[0;32m/tmp/ipykernel_12889/2836246634.py\u001b[0m in \u001b[0;36m<module>\u001b[0;34m\u001b[0m\n\u001b[1;32m     22\u001b[0m \u001b[0;34m\u001b[0m\u001b[0m\n\u001b[1;32m     23\u001b[0m \u001b[0msplitter\u001b[0m \u001b[0;34m=\u001b[0m \u001b[0mdc\u001b[0m\u001b[0;34m.\u001b[0m\u001b[0msplits\u001b[0m\u001b[0;34m.\u001b[0m\u001b[0mSingletaskStratifiedSplitter\u001b[0m\u001b[0;34m(\u001b[0m\u001b[0;34m)\u001b[0m\u001b[0;34m\u001b[0m\u001b[0;34m\u001b[0m\u001b[0m\n\u001b[0;32m---> 24\u001b[0;31m train, test = splitter.train_test_split(\n\u001b[0m\u001b[1;32m     25\u001b[0m     dataset, frac_train=0.8, seed=1)\n\u001b[1;32m     26\u001b[0m \u001b[0;34m\u001b[0m\u001b[0m\n",
      "\u001b[0;32m~/anaconda3/envs/rdkit21/lib/python3.9/site-packages/deepchem/splits/splitters.py\u001b[0m in \u001b[0;36mtrain_test_split\u001b[0;34m(self, dataset, train_dir, test_dir, frac_train, seed, **kwargs)\u001b[0m\n\u001b[1;32m    214\u001b[0m     \"\"\"\n\u001b[1;32m    215\u001b[0m     \u001b[0mvalid_dir\u001b[0m \u001b[0;34m=\u001b[0m \u001b[0mtempfile\u001b[0m\u001b[0;34m.\u001b[0m\u001b[0mmkdtemp\u001b[0m\u001b[0;34m(\u001b[0m\u001b[0;34m)\u001b[0m\u001b[0;34m\u001b[0m\u001b[0;34m\u001b[0m\u001b[0m\n\u001b[0;32m--> 216\u001b[0;31m     train_dataset, _, test_dataset = self.train_valid_test_split(\n\u001b[0m\u001b[1;32m    217\u001b[0m         \u001b[0mdataset\u001b[0m\u001b[0;34m,\u001b[0m\u001b[0;34m\u001b[0m\u001b[0;34m\u001b[0m\u001b[0m\n\u001b[1;32m    218\u001b[0m         \u001b[0mtrain_dir\u001b[0m\u001b[0;34m,\u001b[0m\u001b[0;34m\u001b[0m\u001b[0;34m\u001b[0m\u001b[0m\n",
      "\u001b[0;32m~/anaconda3/envs/rdkit21/lib/python3.9/site-packages/deepchem/splits/splitters.py\u001b[0m in \u001b[0;36mtrain_valid_test_split\u001b[0;34m(self, dataset, train_dir, valid_dir, test_dir, frac_train, frac_valid, frac_test, seed, log_every_n, **kwargs)\u001b[0m\n\u001b[1;32m    170\u001b[0m     \u001b[0;32mif\u001b[0m \u001b[0mtest_dir\u001b[0m \u001b[0;32mis\u001b[0m \u001b[0;32mNone\u001b[0m\u001b[0;34m:\u001b[0m\u001b[0;34m\u001b[0m\u001b[0;34m\u001b[0m\u001b[0m\n\u001b[1;32m    171\u001b[0m       \u001b[0mtest_dir\u001b[0m \u001b[0;34m=\u001b[0m \u001b[0mtempfile\u001b[0m\u001b[0;34m.\u001b[0m\u001b[0mmkdtemp\u001b[0m\u001b[0;34m(\u001b[0m\u001b[0;34m)\u001b[0m\u001b[0;34m\u001b[0m\u001b[0;34m\u001b[0m\u001b[0m\n\u001b[0;32m--> 172\u001b[0;31m     \u001b[0mtrain_dataset\u001b[0m \u001b[0;34m=\u001b[0m \u001b[0mdataset\u001b[0m\u001b[0;34m.\u001b[0m\u001b[0mselect\u001b[0m\u001b[0;34m(\u001b[0m\u001b[0mtrain_inds\u001b[0m\u001b[0;34m,\u001b[0m \u001b[0mtrain_dir\u001b[0m\u001b[0;34m)\u001b[0m\u001b[0;34m\u001b[0m\u001b[0;34m\u001b[0m\u001b[0m\n\u001b[0m\u001b[1;32m    173\u001b[0m     \u001b[0mvalid_dataset\u001b[0m \u001b[0;34m=\u001b[0m \u001b[0mdataset\u001b[0m\u001b[0;34m.\u001b[0m\u001b[0mselect\u001b[0m\u001b[0;34m(\u001b[0m\u001b[0mvalid_inds\u001b[0m\u001b[0;34m,\u001b[0m \u001b[0mvalid_dir\u001b[0m\u001b[0;34m)\u001b[0m\u001b[0;34m\u001b[0m\u001b[0;34m\u001b[0m\u001b[0m\n\u001b[1;32m    174\u001b[0m     \u001b[0mtest_dataset\u001b[0m \u001b[0;34m=\u001b[0m \u001b[0mdataset\u001b[0m\u001b[0;34m.\u001b[0m\u001b[0mselect\u001b[0m\u001b[0;34m(\u001b[0m\u001b[0mtest_inds\u001b[0m\u001b[0;34m,\u001b[0m \u001b[0mtest_dir\u001b[0m\u001b[0;34m)\u001b[0m\u001b[0;34m\u001b[0m\u001b[0;34m\u001b[0m\u001b[0m\n",
      "\u001b[0;32m~/anaconda3/envs/rdkit21/lib/python3.9/site-packages/deepchem/data/datasets.py\u001b[0m in \u001b[0;36mselect\u001b[0;34m(self, indices, select_dir)\u001b[0m\n\u001b[1;32m    904\u001b[0m       \u001b[0mA\u001b[0m \u001b[0mselected\u001b[0m \u001b[0mNumpyDataset\u001b[0m \u001b[0mobject\u001b[0m\u001b[0;34m\u001b[0m\u001b[0;34m\u001b[0m\u001b[0m\n\u001b[1;32m    905\u001b[0m     \"\"\"\n\u001b[0;32m--> 906\u001b[0;31m     \u001b[0mX\u001b[0m \u001b[0;34m=\u001b[0m \u001b[0mself\u001b[0m\u001b[0;34m.\u001b[0m\u001b[0mX\u001b[0m\u001b[0;34m[\u001b[0m\u001b[0mindices\u001b[0m\u001b[0;34m]\u001b[0m\u001b[0;34m\u001b[0m\u001b[0;34m\u001b[0m\u001b[0m\n\u001b[0m\u001b[1;32m    907\u001b[0m     \u001b[0my\u001b[0m \u001b[0;34m=\u001b[0m \u001b[0mself\u001b[0m\u001b[0;34m.\u001b[0m\u001b[0my\u001b[0m\u001b[0;34m[\u001b[0m\u001b[0mindices\u001b[0m\u001b[0;34m]\u001b[0m\u001b[0;34m\u001b[0m\u001b[0;34m\u001b[0m\u001b[0m\n\u001b[1;32m    908\u001b[0m     \u001b[0mw\u001b[0m \u001b[0;34m=\u001b[0m \u001b[0mself\u001b[0m\u001b[0;34m.\u001b[0m\u001b[0mw\u001b[0m\u001b[0;34m[\u001b[0m\u001b[0mindices\u001b[0m\u001b[0;34m]\u001b[0m\u001b[0;34m\u001b[0m\u001b[0;34m\u001b[0m\u001b[0m\n",
      "\u001b[0;31mIndexError\u001b[0m: arrays used as indices must be of integer (or boolean) type"
     ]
    }
   ],
   "source": [
    "# SingletaskStratifiedSplitter\n",
    "\n",
    "import deepchem as dc\n",
    "\n",
    "X = np.array([\n",
    "    ['1','2','3,','4',],\n",
    "    ['1','2','3,','4',],\n",
    "    ['1','2','3,','4',],\n",
    "    ['1','2','3,','4',],\n",
    "    ['1','2','3,','4',],\n",
    "    ['1','2','3,','4',],\n",
    "    ['1','2','3,','4',],\n",
    "    ['2','2','3,','4',],\n",
    "    ['3','2','3,','4',],\n",
    "    ['4','2','3,','4',],\n",
    "])\n",
    "y = np.array([a+0.1 for a in list(range(10))])\n",
    "y = np.expand_dims(y,axis=1)\n",
    "\n",
    "# dataset = dc.data.NumpyDataset(X=X, y=y, ids=list(range(10)))\n",
    "dataset = dc.data.NumpyDataset(X=X, y=y)\n",
    "\n",
    "splitter = dc.splits.SingletaskStratifiedSplitter()\n",
    "train, test = splitter.train_test_split(\n",
    "    dataset, frac_train=0.8, seed=1)\n",
    "\n",
    "train"
   ]
  },
  {
   "cell_type": "code",
   "execution_count": null,
   "metadata": {},
   "outputs": [
    {
     "data": {
      "text/plain": [
       "array([[1., 1., 1., 1., 1., 1., 1., 1., 1., 1.],\n",
       "       [1., 1., 1., 1., 1., 1., 1., 1., 1., 1.],\n",
       "       [1., 1., 1., 1., 1., 1., 1., 1., 1., 1.],\n",
       "       [1., 1., 1., 1., 1., 1., 1., 1., 1., 1.],\n",
       "       [1., 1., 1., 1., 1., 1., 1., 1., 1., 1.],\n",
       "       [1., 1., 1., 1., 1., 1., 1., 1., 1., 1.],\n",
       "       [1., 1., 1., 1., 1., 1., 1., 1., 1., 1.],\n",
       "       [1., 1., 1., 1., 1., 1., 1., 1., 1., 1.]])"
      ]
     },
     "execution_count": 90,
     "metadata": {},
     "output_type": "execute_result"
    }
   ],
   "source": [
    "import numpy as np\n",
    "import pandas as pd\n",
    "\n",
    "dataset = dc.data.DiskDataset.from_numpy(np.ones((10,10)), np.ones((10,1)))\n",
    "\n",
    "splitter = dc.splits.SingletaskStratifiedSplitter(task_number=0)\n",
    "\n",
    "train_dataset, test_dataset = splitter.train_test_split(dataset)\n",
    "train_dataset.X"
   ]
  },
  {
   "cell_type": "code",
   "execution_count": null,
   "metadata": {},
   "outputs": [
    {
     "ename": "NameError",
     "evalue": "name 'DiskDataset' is not defined",
     "output_type": "error",
     "traceback": [
      "\u001b[0;31m---------------------------------------------------------------------------\u001b[0m",
      "\u001b[0;31mNameError\u001b[0m                                 Traceback (most recent call last)",
      "\u001b[0;32m/tmp/ipykernel_12889/868625297.py\u001b[0m in \u001b[0;36m<module>\u001b[0;34m\u001b[0m\n\u001b[0;32m----> 1\u001b[0;31m \u001b[0mdataset\u001b[0m \u001b[0;34m=\u001b[0m \u001b[0mDiskDataset\u001b[0m\u001b[0;34m.\u001b[0m\u001b[0mfrom_numpy\u001b[0m\u001b[0;34m(\u001b[0m\u001b[0mnp\u001b[0m\u001b[0;34m.\u001b[0m\u001b[0mones\u001b[0m\u001b[0;34m(\u001b[0m\u001b[0;34m(\u001b[0m\u001b[0;36m100\u001b[0m\u001b[0;34m,\u001b[0m\u001b[0mn_tasks\u001b[0m\u001b[0;34m)\u001b[0m\u001b[0;34m)\u001b[0m\u001b[0;34m,\u001b[0m \u001b[0mnp\u001b[0m\u001b[0;34m.\u001b[0m\u001b[0mones\u001b[0m\u001b[0;34m(\u001b[0m\u001b[0;34m(\u001b[0m\u001b[0;36m100\u001b[0m\u001b[0;34m,\u001b[0m\u001b[0mn_tasks\u001b[0m\u001b[0;34m)\u001b[0m\u001b[0;34m)\u001b[0m\u001b[0;34m)\u001b[0m\u001b[0;34m\u001b[0m\u001b[0;34m\u001b[0m\u001b[0m\n\u001b[0m\u001b[1;32m      2\u001b[0m \u001b[0;34m\u001b[0m\u001b[0m\n\u001b[1;32m      3\u001b[0m \u001b[0msplitter\u001b[0m \u001b[0;34m=\u001b[0m \u001b[0mSingletaskStratifiedSplitter\u001b[0m\u001b[0;34m(\u001b[0m\u001b[0mtask_number\u001b[0m\u001b[0;34m=\u001b[0m\u001b[0;36m5\u001b[0m\u001b[0;34m)\u001b[0m\u001b[0;34m\u001b[0m\u001b[0;34m\u001b[0m\u001b[0m\n\u001b[1;32m      4\u001b[0m \u001b[0;34m\u001b[0m\u001b[0m\n\u001b[1;32m      5\u001b[0m \u001b[0mtrain_dataset\u001b[0m\u001b[0;34m,\u001b[0m \u001b[0mtest_dataset\u001b[0m \u001b[0;34m=\u001b[0m \u001b[0msplitter\u001b[0m\u001b[0;34m.\u001b[0m\u001b[0mtrain_test_split\u001b[0m\u001b[0;34m(\u001b[0m\u001b[0mdataset\u001b[0m\u001b[0;34m)\u001b[0m\u001b[0;34m\u001b[0m\u001b[0;34m\u001b[0m\u001b[0m\n",
      "\u001b[0;31mNameError\u001b[0m: name 'DiskDataset' is not defined"
     ]
    }
   ],
   "source": [
    "dataset = DiskDataset.from_numpy(np.ones((100,n_tasks)), np.ones((100,n_tasks)))\n",
    "\n",
    "splitter = SingletaskStratifiedSplitter(task_number=5)\n",
    "\n",
    "train_dataset, test_dataset = splitter.train_test_split(dataset)"
   ]
  },
  {
   "cell_type": "code",
   "execution_count": null,
   "metadata": {},
   "outputs": [
    {
     "data": {
      "text/plain": [
       "<DiskDataset X.shape: (8, 2), y.shape: (8, 10), w.shape: (8, 1), ids: [8 3 5 9 0 6 1 7], task_names: [0 1 2 3 4 5 6 7 8 9]>"
      ]
     },
     "execution_count": 75,
     "metadata": {},
     "output_type": "execute_result"
    }
   ],
   "source": [
    "dataset = dc.data.DiskDataset.from_numpy(np.ones((10,2)), np.ones((10,10)))\n",
    "\n",
    "splitter = dc.splits.SingletaskStratifiedSplitter(task_number=5)\n",
    "\n",
    "train_dataset, test_dataset = splitter.train_test_split(dataset)\n",
    "train_dataset"
   ]
  },
  {
   "cell_type": "code",
   "execution_count": null,
   "metadata": {},
   "outputs": [
    {
     "data": {
      "text/plain": [
       "(10,)"
      ]
     },
     "execution_count": 53,
     "metadata": {},
     "output_type": "execute_result"
    }
   ],
   "source": [
    "y = np.array([a+0.1 for a in list(range(10))])\n",
    "y.shape"
   ]
  },
  {
   "cell_type": "code",
   "execution_count": null,
   "metadata": {},
   "outputs": [
    {
     "data": {
      "text/plain": [
       "(10, 1)"
      ]
     },
     "execution_count": 57,
     "metadata": {},
     "output_type": "execute_result"
    }
   ],
   "source": [
    "y = np.expand_dims(y,axis=1)\n",
    "y.shape"
   ]
  },
  {
   "cell_type": "code",
   "execution_count": null,
   "metadata": {},
   "outputs": [
    {
     "data": {
      "text/plain": [
       "array([0.1, 1.1, 2.1, 3.1, 4.1, 5.1, 6.1, 7.1, 8.1, 9.1])"
      ]
     },
     "execution_count": 58,
     "metadata": {},
     "output_type": "execute_result"
    }
   ],
   "source": [
    "y[:,0]"
   ]
  },
  {
   "cell_type": "code",
   "execution_count": null,
   "metadata": {},
   "outputs": [
    {
     "data": {
      "text/plain": [
       "<NumpyDataset X.shape: (2, 4), y.shape: (2,), w.shape: (2,), ids: [8 5], task_names: [0]>"
      ]
     },
     "execution_count": 33,
     "metadata": {},
     "output_type": "execute_result"
    }
   ],
   "source": [
    "test"
   ]
  },
  {
   "cell_type": "code",
   "execution_count": null,
   "metadata": {},
   "outputs": [
    {
     "data": {
      "text/plain": [
       "array([0, 1, 2, 3, 4])"
      ]
     },
     "execution_count": 15,
     "metadata": {},
     "output_type": "execute_result"
    }
   ],
   "source": [
    "dataset.y"
   ]
  },
  {
   "cell_type": "code",
   "execution_count": null,
   "metadata": {},
   "outputs": [
    {
     "data": {
      "text/plain": [
       "array(['1', '2', '3', '4', '5'], dtype='<U1')"
      ]
     },
     "execution_count": 16,
     "metadata": {},
     "output_type": "execute_result"
    }
   ],
   "source": [
    "dataset.X"
   ]
  },
  {
   "cell_type": "code",
   "execution_count": null,
   "metadata": {},
   "outputs": [
    {
     "ename": "AttributeError",
     "evalue": "'tuple' object has no attribute 'y'",
     "output_type": "error",
     "traceback": [
      "\u001b[0;31m---------------------------------------------------------------------------\u001b[0m",
      "\u001b[0;31mAttributeError\u001b[0m                            Traceback (most recent call last)",
      "\u001b[0;32m/tmp/ipykernel_12889/2361803752.py\u001b[0m in \u001b[0;36m<module>\u001b[0;34m\u001b[0m\n\u001b[1;32m     18\u001b[0m \u001b[0msplitter\u001b[0m \u001b[0;34m=\u001b[0m \u001b[0mdc\u001b[0m\u001b[0;34m.\u001b[0m\u001b[0msplits\u001b[0m\u001b[0;34m.\u001b[0m\u001b[0mSingletaskStratifiedSplitter\u001b[0m\u001b[0;34m(\u001b[0m\u001b[0mtask_number\u001b[0m\u001b[0;34m=\u001b[0m\u001b[0;36m5\u001b[0m\u001b[0;34m)\u001b[0m\u001b[0;34m\u001b[0m\u001b[0;34m\u001b[0m\u001b[0m\n\u001b[1;32m     19\u001b[0m \u001b[0;34m\u001b[0m\u001b[0m\n\u001b[0;32m---> 20\u001b[0;31m \u001b[0mtrain_dataset\u001b[0m\u001b[0;34m,\u001b[0m \u001b[0mtest_dataset\u001b[0m \u001b[0;34m=\u001b[0m \u001b[0msplitter\u001b[0m\u001b[0;34m.\u001b[0m\u001b[0mtrain_test_split\u001b[0m\u001b[0;34m(\u001b[0m\u001b[0mdataset\u001b[0m\u001b[0;34m)\u001b[0m\u001b[0;34m\u001b[0m\u001b[0;34m\u001b[0m\u001b[0m\n\u001b[0m",
      "\u001b[0;32m~/anaconda3/envs/rdkit21/lib/python3.9/site-packages/deepchem/splits/splitters.py\u001b[0m in \u001b[0;36mtrain_test_split\u001b[0;34m(self, dataset, train_dir, test_dir, frac_train, seed, **kwargs)\u001b[0m\n\u001b[1;32m    214\u001b[0m     \"\"\"\n\u001b[1;32m    215\u001b[0m     \u001b[0mvalid_dir\u001b[0m \u001b[0;34m=\u001b[0m \u001b[0mtempfile\u001b[0m\u001b[0;34m.\u001b[0m\u001b[0mmkdtemp\u001b[0m\u001b[0;34m(\u001b[0m\u001b[0;34m)\u001b[0m\u001b[0;34m\u001b[0m\u001b[0;34m\u001b[0m\u001b[0m\n\u001b[0;32m--> 216\u001b[0;31m     train_dataset, _, test_dataset = self.train_valid_test_split(\n\u001b[0m\u001b[1;32m    217\u001b[0m         \u001b[0mdataset\u001b[0m\u001b[0;34m,\u001b[0m\u001b[0;34m\u001b[0m\u001b[0;34m\u001b[0m\u001b[0m\n\u001b[1;32m    218\u001b[0m         \u001b[0mtrain_dir\u001b[0m\u001b[0;34m,\u001b[0m\u001b[0;34m\u001b[0m\u001b[0;34m\u001b[0m\u001b[0m\n",
      "\u001b[0;32m~/anaconda3/envs/rdkit21/lib/python3.9/site-packages/deepchem/splits/splitters.py\u001b[0m in \u001b[0;36mtrain_valid_test_split\u001b[0;34m(self, dataset, train_dir, valid_dir, test_dir, frac_train, frac_valid, frac_test, seed, log_every_n, **kwargs)\u001b[0m\n\u001b[1;32m    157\u001b[0m     \"\"\"\n\u001b[1;32m    158\u001b[0m     \u001b[0mlogger\u001b[0m\u001b[0;34m.\u001b[0m\u001b[0minfo\u001b[0m\u001b[0;34m(\u001b[0m\u001b[0;34m\"Computing train/valid/test indices\"\u001b[0m\u001b[0;34m)\u001b[0m\u001b[0;34m\u001b[0m\u001b[0;34m\u001b[0m\u001b[0m\n\u001b[0;32m--> 159\u001b[0;31m     train_inds, valid_inds, test_inds = self.split(\n\u001b[0m\u001b[1;32m    160\u001b[0m         \u001b[0mdataset\u001b[0m\u001b[0;34m,\u001b[0m\u001b[0;34m\u001b[0m\u001b[0;34m\u001b[0m\u001b[0m\n\u001b[1;32m    161\u001b[0m         \u001b[0mfrac_train\u001b[0m\u001b[0;34m=\u001b[0m\u001b[0mfrac_train\u001b[0m\u001b[0;34m,\u001b[0m\u001b[0;34m\u001b[0m\u001b[0;34m\u001b[0m\u001b[0m\n",
      "\u001b[0;32m~/anaconda3/envs/rdkit21/lib/python3.9/site-packages/deepchem/splits/splitters.py\u001b[0m in \u001b[0;36msplit\u001b[0;34m(self, dataset, frac_train, frac_valid, frac_test, seed, log_every_n)\u001b[0m\n\u001b[1;32m    712\u001b[0m       \u001b[0mnp\u001b[0m\u001b[0;34m.\u001b[0m\u001b[0mrandom\u001b[0m\u001b[0;34m.\u001b[0m\u001b[0mseed\u001b[0m\u001b[0;34m(\u001b[0m\u001b[0mseed\u001b[0m\u001b[0;34m)\u001b[0m\u001b[0;34m\u001b[0m\u001b[0;34m\u001b[0m\u001b[0m\n\u001b[1;32m    713\u001b[0m \u001b[0;34m\u001b[0m\u001b[0m\n\u001b[0;32m--> 714\u001b[0;31m     \u001b[0my_s\u001b[0m \u001b[0;34m=\u001b[0m \u001b[0mdataset\u001b[0m\u001b[0;34m.\u001b[0m\u001b[0my\u001b[0m\u001b[0;34m[\u001b[0m\u001b[0;34m:\u001b[0m\u001b[0;34m,\u001b[0m \u001b[0mself\u001b[0m\u001b[0;34m.\u001b[0m\u001b[0mtask_number\u001b[0m\u001b[0;34m]\u001b[0m\u001b[0;34m\u001b[0m\u001b[0;34m\u001b[0m\u001b[0m\n\u001b[0m\u001b[1;32m    715\u001b[0m     \u001b[0msortidx\u001b[0m \u001b[0;34m=\u001b[0m \u001b[0mnp\u001b[0m\u001b[0;34m.\u001b[0m\u001b[0margsort\u001b[0m\u001b[0;34m(\u001b[0m\u001b[0my_s\u001b[0m\u001b[0;34m)\u001b[0m\u001b[0;34m\u001b[0m\u001b[0;34m\u001b[0m\u001b[0m\n\u001b[1;32m    716\u001b[0m \u001b[0;34m\u001b[0m\u001b[0m\n",
      "\u001b[0;31mAttributeError\u001b[0m: 'tuple' object has no attribute 'y'"
     ]
    }
   ],
   "source": [
    "import numpy as np\n",
    "import pandas as pd\n",
    "\n",
    "n_samples = 100\n",
    "\n",
    "n_features = 10\n",
    "\n",
    "n_tasks = 10\n",
    "\n",
    "X = np.random.rand(n_samples, n_features)\n",
    "\n",
    "y = np.random.rand(n_samples, n_tasks)\n",
    "\n",
    "w = np.ones_like(y)\n",
    "\n",
    "dataset = dc.data.np.ones((100,n_tasks)), np.ones((100,n_tasks))\n",
    "\n",
    "splitter = dc.splits.SingletaskStratifiedSplitter(task_number=5)\n",
    "\n",
    "train_dataset, test_dataset = splitter.train_test_split(dataset)"
   ]
  },
  {
   "cell_type": "code",
   "execution_count": null,
   "metadata": {},
   "outputs": [
    {
     "data": {
      "text/plain": [
       "(array([[1., 1.],\n",
       "        [1., 1.],\n",
       "        [1., 1.],\n",
       "        [1., 1.],\n",
       "        [1., 1.],\n",
       "        [1., 1.],\n",
       "        [1., 1.],\n",
       "        [1., 1.],\n",
       "        [1., 1.],\n",
       "        [1., 1.]]),\n",
       " array([[1.],\n",
       "        [1.],\n",
       "        [1.],\n",
       "        [1.],\n",
       "        [1.],\n",
       "        [1.],\n",
       "        [1.],\n",
       "        [1.],\n",
       "        [1.],\n",
       "        [1.]]))"
      ]
     },
     "execution_count": 69,
     "metadata": {},
     "output_type": "execute_result"
    }
   ],
   "source": [
    "dataset = dc.data.np.ones((10,2)), np.ones((10,1))\n",
    "dataset"
   ]
  },
  {
   "cell_type": "code",
   "execution_count": null,
   "metadata": {},
   "outputs": [],
   "source": []
  }
 ],
 "metadata": {
  "interpreter": {
   "hash": "3a76f73617d97f0c7fc0715df7b8506481ecf9cfdcc9baf0f59a57f1c74a628a"
  },
  "kernelspec": {
   "display_name": "Python 3.9.6 64-bit ('rdkit21': conda)",
   "name": "python3"
  },
  "language_info": {
   "codemirror_mode": {
    "name": "ipython",
    "version": 3
   },
   "file_extension": ".py",
   "mimetype": "text/x-python",
   "name": "python",
   "nbconvert_exporter": "python",
   "pygments_lexer": "ipython3",
   "version": "3.11.5"
  },
  "orig_nbformat": 4
 },
 "nbformat": 4,
 "nbformat_minor": 2
}
